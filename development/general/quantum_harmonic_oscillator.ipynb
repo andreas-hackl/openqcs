{
 "cells": [
  {
   "cell_type": "code",
   "execution_count": 24,
   "metadata": {},
   "outputs": [],
   "source": [
    "from openqcs.tools import color_matrix"
   ]
  },
  {
   "cell_type": "code",
   "execution_count": 25,
   "metadata": {},
   "outputs": [
    {
     "data": {
      "image/png": "[encoded data removed]",
      "text/plain": [
       "<Figure size 360x216 with 2 Axes>"
      ]
     },
     "metadata": {
      "needs_background": "light"
     },
     "output_type": "display_data"
    }
   ],
   "source": [
    "import numpy as np\n",
    "\n",
    "def partical_op(nbits=2):\n",
    "    N = np.zeros((2**nbits, 2**nbits), dtype=np.double)\n",
    "    for i in range(2**nbits):\n",
    "        N[i,i]=i\n",
    "        \n",
    "    return N\n",
    "\n",
    "def H0_(w,nbits=2):\n",
    "    return w*(1/2*np.matrix(np.eye(2**nbits))+partical_op(nbits=nbits))\n",
    "\n",
    "def a(nbits=2):\n",
    "    A = np.matrix(np.zeros((2**nbits, 2**nbits)))\n",
    "    for i in range(1,2**nbits):\n",
    "        A[i-1,i] = np.sqrt(i)\n",
    "    return A\n",
    "\n",
    "def a_dag(nbits=2):\n",
    "    return a(nbits=nbits).H\n",
    "\n",
    "\n",
    "def x_op(m,w,nbits=2):\n",
    "    return 1/np.sqrt(2*m*w)*(a(nbits=nbits) + a_dag(nbits=nbits))\n",
    "\n",
    "def p_op(m,w,nbits=2):\n",
    "    return 1j* np.sqrt(m*w/2) * (a_dag(nbits=nbits)-a(nbits=nbits))\n",
    "\n",
    "def Hint_(a,nbits=2):\n",
    "    return a*(x_op(1.0, 1.0, nbits=nbits))**4\n",
    "\n",
    "def H_(w,a,nbits=2):\n",
    "    return H0_(w,nbits=nbits) + Hint_(a,nbits=nbits)\n",
    "\n",
    "color_matrix(H_(1.0, 0.2, nbits=4))"
   ]
  },
  {
   "cell_type": "code",
   "execution_count": null,
   "metadata": {},
   "outputs": [],
   "source": []
  }
 ],
 "metadata": {
  "kernelspec": {
   "display_name": "Python 3",
   "language": "python",
   "name": "python3"
  },
  "language_info": {
   "codemirror_mode": {
    "name": "ipython",
    "version": 3
   },
   "file_extension": ".py",
   "mimetype": "text/x-python",
   "name": "python",
   "nbconvert_exporter": "python",
   "pygments_lexer": "ipython3",
   "version": "3.7.3"
  }
 },
 "nbformat": 4,
 "nbformat_minor": 2
}
