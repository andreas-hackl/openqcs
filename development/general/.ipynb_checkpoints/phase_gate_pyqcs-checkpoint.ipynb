{
 "cells": [
  {
   "cell_type": "code",
   "execution_count": 4,
   "metadata": {},
   "outputs": [
    {
     "name": "stdout",
     "output_type": "stream",
     "text": [
      "Testing phase\n",
      "Everything went fine\n"
     ]
    }
   ],
   "source": [
    "import numpy as np\n",
    "import pyqcs\n",
    "from pyqcs import X, R\n",
    "\n",
    "def phase(act, phi):\n",
    "    return (X(act) | R(act, phi) | X(act) | R(act, phi))\n",
    "\n",
    "\n",
    "def test_phase():\n",
    "    print(\"Testing phase\")\n",
    "    for i in range(1000):\n",
    "\n",
    "        phi = np.random.rand() * 2*np.pi\n",
    "\n",
    "        st0 = pyqcs.State.new_zero_state(1)\n",
    "        st1 = X(0) * st0\n",
    "\n",
    "\n",
    "        st0a = phase(0, phi) * st0\n",
    "        st1a = phase(0, phi) * st1\n",
    "\n",
    "        dist0 = st0a._qm_state[0] - st1a._qm_state[1]\n",
    "        dist1 = st0a._qm_state[1] - st1a._qm_state[0]\n",
    "\n",
    "        for x in st0a._qm_state:\n",
    "            if not np.isclose(np.abs(x), 0.0):\n",
    "                dist = np.abs(x - np.exp(1j*phi))\n",
    "                if not np.isclose(dist, 0.0):\n",
    "                    print(dist)\n",
    "                    raise ValueError()\n",
    "\n",
    "        for x in st1a._qm_state:\n",
    "            if not np.isclose(np.abs(x), 0.0):\n",
    "                dist = np.abs(x - np.exp(1j*phi))\n",
    "                if not np.isclose(dist, 0.0):\n",
    "                    print(dist)\n",
    "                    raise ValueError()\n",
    "                \n",
    "    print(\"Everything went fine\")\n",
    "    \n",
    "test_phase()\n"
   ]
  },
  {
   "cell_type": "code",
   "execution_count": null,
   "metadata": {},
   "outputs": [],
   "source": []
  }
 ],
 "metadata": {
  "kernelspec": {
   "display_name": "Python 3",
   "language": "python",
   "name": "python3"
  },
  "language_info": {
   "codemirror_mode": {
    "name": "ipython",
    "version": 3
   },
   "file_extension": ".py",
   "mimetype": "text/x-python",
   "name": "python",
   "nbconvert_exporter": "python",
   "pygments_lexer": "ipython3",
   "version": "3.7.3"
  }
 },
 "nbformat": 4,
 "nbformat_minor": 2
}
