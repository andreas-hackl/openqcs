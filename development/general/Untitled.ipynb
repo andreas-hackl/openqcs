{
 "cells": [
  {
   "cell_type": "code",
   "execution_count": 6,
   "metadata": {},
   "outputs": [],
   "source": [
    "import openqcs.spinchain as sp\n",
    "import openqcs as op\n",
    "import numpy as np"
   ]
  },
  {
   "cell_type": "code",
   "execution_count": 17,
   "metadata": {},
   "outputs": [
    {
     "name": "stdout",
     "output_type": "stream",
     "text": [
      "0.9611726097836003\n",
      "0.991326054737171\n",
      "0.690116718456206\n",
      "2.7158176638197395\n",
      "0.9848275034076324\n",
      "1.0405091818643295\n",
      "0.6175733771546366\n",
      "4.681312912898165\n",
      "1.121152877662791\n",
      "0.5656921959480964\n",
      "1.0059728905558738\n",
      "1.0507407902692445\n",
      "0.486509757195669\n",
      "1.8050941227171309\n",
      "1.9553611159579165\n",
      "2.457122860861053\n",
      "0.9740260623133701\n",
      "1.5631804936395182\n",
      "0.8456427287271419\n",
      "0.2675284027102313\n",
      "0.8839324576448012\n",
      "1.2109920701206658\n",
      "1.4778318269249249\n",
      "1.7146611732854298\n",
      "1.5379552920493156\n",
      "1.58324371389921\n",
      "1.0425246112761655\n",
      "1.488717137303614\n",
      "0.6998022239201112\n",
      "3.128421363461168\n",
      "1.0787432369776915\n",
      "1.8224955117965451\n"
     ]
    }
   ],
   "source": [
    "a = 1\n",
    "b = 1\n",
    "dt = 4.2\n",
    "nbits = 6\n",
    "H = sp.H_(a,b,N=nbits)\n",
    "T = sp.T_(H, dt)\n",
    "\n",
    "\n",
    "Ks = op.get_kraus_(T, nbits=nbits)\n",
    "\n",
    "rho0 = np.matrix([[1,0],[0,0]])\n",
    "\n",
    "ps = [np.sqrt(np.trace(K@rho0@K.H)) for K in Ks]\n",
    "\n",
    "Us = [K/ps[i] for i,K in enumerate(Ks)]\n",
    "\n",
    "for U in Us:\n",
    "    print(np.linalg.norm(U.H@U - np.matrix(np.eye(2))))\n",
    "\n"
   ]
  },
  {
   "cell_type": "code",
   "execution_count": null,
   "metadata": {},
   "outputs": [],
   "source": []
  }
 ],
 "metadata": {
  "kernelspec": {
   "display_name": "Python 3",
   "language": "python",
   "name": "python3"
  },
  "language_info": {
   "codemirror_mode": {
    "name": "ipython",
    "version": 3
   },
   "file_extension": ".py",
   "mimetype": "text/x-python",
   "name": "python",
   "nbconvert_exporter": "python",
   "pygments_lexer": "ipython3",
   "version": "3.7.3"
  }
 },
 "nbformat": 4,
 "nbformat_minor": 2
}
