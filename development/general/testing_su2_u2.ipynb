{
 "cells": [
  {
   "cell_type": "code",
   "execution_count": 3,
   "metadata": {},
   "outputs": [
    {
     "name": "stdout",
     "output_type": "stream",
     "text": [
      "starting test of su2 and u2 functions\n",
      "everything went fine\n"
     ]
    }
   ],
   "source": [
    "import numpy as np\n",
    "import openqcs.tools as t\n",
    "\n",
    "from scipy.linalg import expm\n",
    "Pauli = t.Pauli\n",
    "\n",
    "def random_su2():\n",
    "    param = np.random.rand(3)*2*np.pi\n",
    "    \n",
    "    H = sum([param[k] * Pauli[k+1] for k in range(3)])\n",
    "    return expm(-1j*H)\n",
    "    \n",
    "\n",
    "def test_su2_u2():\n",
    "    print(\"starting test of su2 and u2 functions\")\n",
    "    for k in range(10000):\n",
    "        U = random_su2()\n",
    "        param = t.get_su2_param(U)\n",
    "        Uproj = t.su2(param)\n",
    "\n",
    "        dst = np.linalg.norm(Uproj - U)\n",
    "\n",
    "        if not np.isclose(dst, 0.0):\n",
    "            raise ValueError()\n",
    "\n",
    "        psi = np.random.rand()\n",
    "        V = np.exp(1j*psi/2)*U\n",
    "\n",
    "        param = t.get_u2_param(V)\n",
    "        Vproj = t.u2(param)\n",
    "\n",
    "        dst = np.linalg.norm(Vproj - V)\n",
    "\n",
    "        if not np.isclose(dst, 0.0):\n",
    "            raise ValueError()\n",
    "            \n",
    "    print(\"everything went fine\")\n",
    "    \n",
    "test_su2_u2()"
   ]
  },
  {
   "cell_type": "code",
   "execution_count": null,
   "metadata": {},
   "outputs": [],
   "source": []
  }
 ],
 "metadata": {
  "kernelspec": {
   "display_name": "Python 3",
   "language": "python",
   "name": "python3"
  },
  "language_info": {
   "codemirror_mode": {
    "name": "ipython",
    "version": 3
   },
   "file_extension": ".py",
   "mimetype": "text/x-python",
   "name": "python",
   "nbconvert_exporter": "python",
   "pygments_lexer": "ipython3",
   "version": "3.7.3"
  }
 },
 "nbformat": 4,
 "nbformat_minor": 2
}
