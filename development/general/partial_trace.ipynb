{
 "cells": [
  {
   "cell_type": "code",
   "execution_count": 4,
   "metadata": {},
   "outputs": [],
   "source": [
    "import numpy as np\n",
    "import openqcs.tools as t"
   ]
  },
  {
   "cell_type": "code",
   "execution_count": 64,
   "metadata": {},
   "outputs": [],
   "source": [
    "def partial_trace_small(M, sysbit=0):\n",
    "    # partial trace just works if the most significant qubit is the \n",
    "    if M.shape[0]!=M.shape[1]:\n",
    "        raise ValueError()\n",
    "    nbits = int(np.log2(M.shape[0]))\n",
    "    print(\"nbits = \", nbits)\n",
    "    \n",
    "    \n",
    "    envbits = [i for i in range(nbits) if i!=sysbit]\n",
    "    \n",
    "    print(sysbit)\n",
    "    print(envbits)\n",
    "    \n",
    "    X = np.matrix(np.zeros((2,2)))\n",
    "    \n",
    "    for k in range(2**(nbits-1)):\n",
    "        tmp = M[k*2:(k+1)*2, k*2:(k+1)*2]\n",
    "        X += tmp\n",
    "    \n",
    "    return X\n",
    "\n",
    "\n"
   ]
  },
  {
   "cell_type": "code",
   "execution_count": 61,
   "metadata": {},
   "outputs": [
    {
     "name": "stdout",
     "output_type": "stream",
     "text": [
      "(0, 0)\n",
      "(0, 1)\n",
      "(1, 0)\n",
      "(1, 1)\n"
     ]
    }
   ],
   "source": [
    "def split_number(k, sysbit, nbits):\n",
    "    s = -sysbit-1\n",
    "    binary = \"{0:b}\".format(k)\n",
    "    while len(binary) < nbits:\n",
    "        binary = \"0\"+binary\n",
    "        \n",
    "    env_binary_arr = [binary[i] for i in range(len(binary)) if i!=len(binary)+s]\n",
    "    sys_value = int(binary[len(binary)+s])\n",
    "\n",
    "    env_binary = \"\"\n",
    "    for v in env_binary_arr:\n",
    "        env_binary+=v\n",
    "    \n",
    "    env_value = int(env_binary,2)\n",
    "    \n",
    "    return sys_value, env_value\n",
    "    \n",
    "for i in range(2**2):\n",
    "    print(split_number(i, 1, 2))"
   ]
  },
  {
   "cell_type": "code",
   "execution_count": 87,
   "metadata": {},
   "outputs": [
    {
     "name": "stdout",
     "output_type": "stream",
     "text": [
      "[[ 1  2  3  4]\n",
      " [ 5  6  7  8]\n",
      " [ 9 10 11 12]\n",
      " [13 14 15 16]]\n"
     ]
    },
    {
     "data": {
      "image/png": "[encoded data removed]",
      "text/plain": [
       "<Figure size 360x216 with 2 Axes>"
      ]
     },
     "metadata": {
      "needs_background": "dark"
     },
     "output_type": "display_data"
    },
    {
     "name": "stdout",
     "output_type": "stream",
     "text": [
      "nbits =  2\n",
      "0\n",
      "[1]\n",
      "[[12. 14.]\n",
      " [20. 22.]]\n",
      "nbits =  2\n",
      "0\n",
      "[1]\n"
     ]
    },
    {
     "data": {
      "image/png": "[encoded data removed]",
      "text/plain": [
       "<Figure size 720x216 with 3 Axes>"
      ]
     },
     "metadata": {
      "needs_background": "dark"
     },
     "output_type": "display_data"
    },
    {
     "name": "stdout",
     "output_type": "stream",
     "text": [
      "[[12.+0.j 14.+0.j]\n",
      " [20.+0.j 22.+0.j]]\n"
     ]
    }
   ],
   "source": [
    "def partial_trace(M, sysbit=0):\n",
    "    if M.shape[0]!=M.shape[1]:\n",
    "        raise ValueError()\n",
    "    nbits = int(np.log2(M.shape[0]))\n",
    "    print(\"nbits = \", nbits)\n",
    "    \n",
    "    \n",
    "    envbits = [i for i in range(nbits) if i!=sysbit]\n",
    "    \n",
    "    print(sysbit)\n",
    "    print(envbits)\n",
    "    \n",
    "    X = np.matrix(np.zeros((2,2)), dtype=np.complex)\n",
    "    \n",
    "    partial_matrices = [np.zeros((2,2), dtype=np.complex) for i in range(2**(nbits-1))]\n",
    "    for k in range(2**nbits):\n",
    "        for l in range(2**nbits):\n",
    "            k_sys, k_env = split_number(k, sysbit, nbits)\n",
    "            l_sys, l_env = split_number(l, sysbit, nbits)\n",
    "            \n",
    "            if k_env == l_env:\n",
    "                partial_matrices[k_env][k_sys, l_sys] = M[k,l]\n",
    "            \n",
    "    for tmp in partial_matrices:\n",
    "        X += np.matrix(tmp)\n",
    "            \n",
    "    \n",
    "    return X\n",
    "\n",
    "\n",
    "M = np.matrix(np.random.rand(4*4).reshape(4,4))\n",
    "M = np.matrix(np.arange(1,17).reshape(4,4))\n",
    "print(M)\n",
    "t.color_matrix(M)\n",
    "Msys = partial_trace_small(M, sysbit=0)\n",
    "print(Msys)\n",
    "Msys1 = partial_trace(M, sysbit=0)\n",
    "t.color_matrix(Msys1)\n",
    "print(Msys1)\n"
   ]
  },
  {
   "cell_type": "code",
   "execution_count": null,
   "metadata": {},
   "outputs": [],
   "source": []
  }
 ],
 "metadata": {
  "kernelspec": {
   "display_name": "Python 3",
   "language": "python",
   "name": "python3"
  },
  "language_info": {
   "codemirror_mode": {
    "name": "ipython",
    "version": 3
   },
   "file_extension": ".py",
   "mimetype": "text/x-python",
   "name": "python",
   "nbconvert_exporter": "python",
   "pygments_lexer": "ipython3",
   "version": "3.7.3"
  }
 },
 "nbformat": 4,
 "nbformat_minor": 2
}
