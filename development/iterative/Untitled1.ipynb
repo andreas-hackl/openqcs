{
 "cells": [
  {
   "cell_type": "code",
   "execution_count": 1,
   "metadata": {},
   "outputs": [],
   "source": [
    "import numpy as np\n",
    "from scipy.linalg import expm, logm\n",
    "import openqcs as op\n",
    "from openqcs.tools import color_matrix, get_su2_param, su2, diagonalize\n",
    "from openqcs.iterativ import get_iterative_kraus_op\n",
    "import time"
   ]
  },
  {
   "cell_type": "code",
   "execution_count": 2,
   "metadata": {},
   "outputs": [],
   "source": [
    "X = np.matrix([[0,1],[1,0]])\n",
    "Z = np.matrix([[1,0],[0,-1]])\n",
    "Id = np.matrix(np.eye(2))\n",
    "a = 0.5\n",
    "b = 0.5\n",
    "dt=0.01\n",
    "\n",
    "def H_(a,b):\n",
    "    return -a * np.kron(Z, Z) + b*(np.kron(X,Id) + np.kron(Id, X))\n",
    "\n",
    "def T_(H, dt):\n",
    "    if not isinstance(H, np.matrix):\n",
    "        raise ValueError()\n",
    "    return np.matrix(expm(-1j*H*dt))\n",
    "\n",
    "H = H_(a,b)\n",
    "T = T_(H, dt)"
   ]
  },
  {
   "cell_type": "code",
   "execution_count": 3,
   "metadata": {},
   "outputs": [
    {
     "name": "stdout",
     "output_type": "stream",
     "text": [
      "(array([0., 1.]), matrix([[0.+0.j, 1.+0.j],\n",
      "        [1.+0.j, 0.+0.j]]))\n",
      "(array([6.94425054e-15, 1.00000000e+00]), matrix([[ 4.99995833e-03+0.j       , -9.99987500e-01-0.j       ],\n",
      "        [ 4.99991667e-03+0.999975j ,  2.49996875e-05+0.0049999j]]))\n",
      "(array([4.4439116e-13, 1.0000000e+00]), matrix([[ 9.99966665e-03+0.j        , -9.99950002e-01-0.j        ],\n",
      "        [ 9.99933336e-03+0.99990001j,  9.99949999e-05+0.00999917j]]))\n",
      "(array([5.06113323e-12, 1.00000000e+00]), matrix([[ 1.49988749e-02+0.j        , -9.99887511e-01-0.j        ],\n",
      "        [ 1.49977502e-02+0.99977503j,  2.24974686e-04+0.01499719j]]))\n",
      "(array([2.84307943e-11, 1.00000000e+00]), matrix([[ 1.99973328e-02+0.j        , -9.99800033e-01-0.j        ],\n",
      "        [ 1.99946676e-02+0.99960008j,  3.99919993e-04+0.01999333j]]))\n",
      "(array([1.08425592e-10, 1.00000000e+00]), matrix([[ 2.49947900e-02+0.j        , -9.99687581e-01-0.j        ],\n",
      "        [ 2.49895863e-02+0.9993752j ,  6.24804663e-04+0.02498698j]]))\n",
      "(array([3.23650255e-10, 1.00000000e+00]), matrix([[ 2.99909960e-02+0.j        , -9.99550169e-01-0.j        ],\n",
      "        [ 2.99820073e-02+0.99910041j,  8.99594926e-04+0.0299775j ]]))\n",
      "(array([8.15806760e-10, 9.99999999e-01]), matrix([[ 0.0349857 +0.j        , -0.99938781-0.j        ],\n",
      "        [ 0.03497143+0.99877575j,  0.00122425+0.03496427j]]))\n",
      "(array([1.81695229e-09, 9.99999998e-01]), matrix([[ 0.03997865+0.j        , -0.99920053-0.j        ],\n",
      "        [ 0.03995736+0.99840128j,  0.00159872+0.03994667j]]))\n",
      "(array([3.68160450e-09, 9.99999996e-01]), matrix([[ 0.04496959+0.j        , -0.99898836-0.j        ],\n",
      "        [ 0.04493931+0.99797705j,  0.00202295+0.04492407j]]))\n"
     ]
    }
   ],
   "source": [
    "rho0 = np.matrix([[1,0],[0,0]])\n",
    "\n",
    "for i in range(10):\n",
    "    \n",
    "    Ks = op.get_kraus_(T**(i))\n",
    "    rho = op.channel_(rho0, Ks)\n",
    "    \n",
    "    print(np.linalg.eigh(rho))"
   ]
  },
  {
   "cell_type": "code",
   "execution_count": null,
   "metadata": {},
   "outputs": [],
   "source": []
  }
 ],
 "metadata": {
  "kernelspec": {
   "display_name": "Python 3",
   "language": "python",
   "name": "python3"
  },
  "language_info": {
   "codemirror_mode": {
    "name": "ipython",
    "version": 3
   },
   "file_extension": ".py",
   "mimetype": "text/x-python",
   "name": "python",
   "nbconvert_exporter": "python",
   "pygments_lexer": "ipython3",
   "version": "3.7.3"
  }
 },
 "nbformat": 4,
 "nbformat_minor": 2
}
