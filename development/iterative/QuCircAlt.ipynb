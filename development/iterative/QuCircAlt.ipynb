{
 "cells": [
  {
   "cell_type": "code",
   "execution_count": 24,
   "metadata": {},
   "outputs": [],
   "source": [
    "import numpy as np\n",
    "import matplotlib.pyplot as plt\n",
    "import openqcs as o\n",
    "import openqcs.tools as t\n",
    "import openqcs.spinchain as sp\n",
    "import openqcs.statistic as st\n",
    "import openqcs.iterativ as it\n",
    "import openqcs.qcirc as qc\n",
    "import pyqcs as p\n",
    "from pyqcs import H, X, R"
   ]
  },
  {
   "cell_type": "code",
   "execution_count": 18,
   "metadata": {},
   "outputs": [
    {
     "name": "stdout",
     "output_type": "stream",
     "text": [
      "[[1.+0.j 0.+0.j]\n",
      " [0.+0.j 0.+0.j]]\n"
     ]
    }
   ],
   "source": [
    "class State:\n",
    "    def __init__(self, psi):\n",
    "        self.qm = psi\n",
    "        self.vec = np.matrix([p for p in psi._qm_state]).H\n",
    "        self.rho = self.vec @ self.vec.H\n",
    "        \n",
    "        \n",
    "\n",
    "psi = State(p.State.new_zero_state(1))\n",
    "print(psi.rho)\n"
   ]
  },
  {
   "cell_type": "code",
   "execution_count": 71,
   "metadata": {},
   "outputs": [],
   "source": [
    "def walk_a_path(iSt, N, T):\n",
    "    state = State(iSt)\n",
    "    \n",
    "    path=\"\"\n",
    "    \n",
    "    for i in range(N):\n",
    "        rho_in = state.rho\n",
    "        Ks = o.get_kraus_(T)\n",
    "        rho_out = o.channel_(rho_in, Ks)\n",
    "        \n",
    "        p, E0, E1, msg = it.it_kraus(rho_in, rho_out)\n",
    "        #print(p)\n",
    "        \n",
    "        if msg[\"ier\"] == False:\n",
    "            raise ValueError()\n",
    "            \n",
    "        # Draw our fate, 0 <= q <= 1\n",
    "        q = np.random.rand()\n",
    "        \n",
    "        if q < p:\n",
    "            # go path 0\n",
    "            circ = qc.u2_to_circuit(0,t.get_u2_param(E0))\n",
    "            state = State(circ*state.qm)\n",
    "            path+=\"0\"\n",
    "        else:\n",
    "            # go path 1\n",
    "            circ = qc.u2_to_circuit(0,t.get_u2_param(E1))\n",
    "            state = State(circ*state.qm)\n",
    "            path+=\"1\"\n",
    "    #print(path)\n",
    "            \n",
    "    return state.qm\n",
    "\n",
    "def sample_paths(iSt, N_samples, N_time, T):\n",
    "    \n",
    "    mRes = np.zeros((N_samples, 2), dtype=np.double)\n",
    "    \n",
    "    for i in range(N_samples):\n",
    "        psi = walk_a_path(iSt, N_time, T)\n",
    "        \n",
    "        for j, v in enumerate(psi._qm_state):\n",
    "            mRes[i,j] = np.double(v*np.conj(v))\n",
    "            \n",
    "    result = [st.bootstrap(mRes[:,0]), st.bootstrap(mRes[:,1])]\n",
    "    return np.array(result)\n",
    "\n",
    "def evolution(H, iSt, t_max, dt, N_samples=100):\n",
    "    N_times = int(t_max/dt)\n",
    "    T = sp.T_(H, dt)\n",
    "    t.color_matrix(T)\n",
    "    \n",
    "    init_state = State(iSt)\n",
    "    \n",
    "    data = np.zeros((N_times+1,2,2), dtype=np.double)\n",
    "    data_cl = np.zeros((N_times+1,2), dtype=np.double)\n",
    "    \n",
    "    tdata = np.arange(N_times+1)*dt\n",
    "    data[0,:,:] = [[np.abs(iSt._qm_state[0]),0.0],\n",
    "                  [np.abs(iSt._qm_state[1]),0.0]]\n",
    "    \n",
    "    data_cl[0,:] = [np.abs(iSt._qm_state[i]) for i in range(2)]\n",
    "    \n",
    "    for n in range(1,N_times+1):\n",
    "        print(\"{} of {}\".format(n, N_times))\n",
    "        print(\"t = {}\".format(n*dt))\n",
    "        \n",
    "        data[n,:,:] = sample_paths(iSt, N_samples, n, T)\n",
    "        \n",
    "        Ks = o.get_kraus_(T**n)\n",
    "        rho = o.channel_(init_state.rho, Ks)\n",
    "        data_cl[n,:] = [rho[0,0].real, rho[1,1].real]\n",
    "        \n",
    "    return tdata, data, data_cl\n",
    "        \n",
    "        \n",
    "        \n",
    "        \n",
    "        \n",
    "    "
   ]
  },
  {
   "cell_type": "code",
   "execution_count": 78,
   "metadata": {},
   "outputs": [
    {
     "data": {
      "image/png": "[encoded data removed]",
      "text/plain": [
       "<Figure size 720x216 with 3 Axes>"
      ]
     },
     "metadata": {
      "needs_background": "light"
     },
     "output_type": "display_data"
    },
    {
     "name": "stdout",
     "output_type": "stream",
     "text": [
      "1 of 50\n",
      "t = 0.1\n",
      "2 of 50\n",
      "t = 0.2\n"
     ]
    },
    {
     "name": "stderr",
     "output_type": "stream",
     "text": [
      "/home/andreas/anaconda3/lib/python3.7/site-packages/ipykernel_launcher.py:42: ComplexWarning: Casting complex values to real discards the imaginary part\n"
     ]
    },
    {
     "name": "stdout",
     "output_type": "stream",
     "text": [
      "3 of 50\n",
      "t = 0.30000000000000004\n",
      "4 of 50\n",
      "t = 0.4\n",
      "5 of 50\n",
      "t = 0.5\n",
      "6 of 50\n",
      "t = 0.6000000000000001\n",
      "7 of 50\n",
      "t = 0.7000000000000001\n",
      "8 of 50\n",
      "t = 0.8\n",
      "9 of 50\n",
      "t = 0.9\n",
      "10 of 50\n",
      "t = 1.0\n",
      "11 of 50\n",
      "t = 1.1\n",
      "12 of 50\n",
      "t = 1.2000000000000002\n",
      "13 of 50\n",
      "t = 1.3\n",
      "14 of 50\n",
      "t = 1.4000000000000001\n",
      "15 of 50\n",
      "t = 1.5\n",
      "16 of 50\n",
      "t = 1.6\n",
      "17 of 50\n",
      "t = 1.7000000000000002\n",
      "18 of 50\n",
      "t = 1.8\n",
      "19 of 50\n",
      "t = 1.9000000000000001\n",
      "20 of 50\n",
      "t = 2.0\n"
     ]
    },
    {
     "name": "stderr",
     "output_type": "stream",
     "text": [
      "/home/andreas/anaconda3/lib/python3.7/site-packages/pyqcs/gates/gate.py:19: ComplexWarning: Casting complex values to real discards the imaginary part\n",
      "  BaseGate.__init__(self, BasicGate(type_, act, control, r, numpy.random.uniform))\n"
     ]
    },
    {
     "name": "stdout",
     "output_type": "stream",
     "text": [
      "21 of 50\n",
      "t = 2.1\n",
      "22 of 50\n",
      "t = 2.2\n",
      "23 of 50\n",
      "t = 2.3000000000000003\n",
      "24 of 50\n",
      "t = 2.4000000000000004\n",
      "25 of 50\n",
      "t = 2.5\n",
      "26 of 50\n",
      "t = 2.6\n",
      "27 of 50\n",
      "t = 2.7\n",
      "28 of 50\n",
      "t = 2.8000000000000003\n",
      "29 of 50\n",
      "t = 2.9000000000000004\n",
      "30 of 50\n",
      "t = 3.0\n",
      "31 of 50\n",
      "t = 3.1\n",
      "32 of 50\n",
      "t = 3.2\n",
      "33 of 50\n",
      "t = 3.3000000000000003\n",
      "34 of 50\n",
      "t = 3.4000000000000004\n",
      "35 of 50\n",
      "t = 3.5\n",
      "36 of 50\n",
      "t = 3.6\n",
      "37 of 50\n",
      "t = 3.7\n",
      "38 of 50\n",
      "t = 3.8000000000000003\n",
      "39 of 50\n",
      "t = 3.9000000000000004\n",
      "40 of 50\n",
      "t = 4.0\n",
      "41 of 50\n",
      "t = 4.1000000000000005\n",
      "42 of 50\n",
      "t = 4.2\n",
      "43 of 50\n",
      "t = 4.3\n",
      "44 of 50\n",
      "t = 4.4\n",
      "45 of 50\n",
      "t = 4.5\n",
      "46 of 50\n",
      "t = 4.6000000000000005\n",
      "47 of 50\n",
      "t = 4.7\n",
      "48 of 50\n",
      "t = 4.800000000000001\n",
      "49 of 50\n",
      "t = 4.9\n",
      "50 of 50\n",
      "t = 5.0\n"
     ]
    }
   ],
   "source": [
    "a = 0.5\n",
    "b = 0.5\n",
    "dt = 0.1\n",
    "t_max = 5.0\n",
    "\n",
    "Ham = sp.H_(a,b)\n",
    "iSt = p.State.new_zero_state(1)\n",
    "\n",
    "tdata, data, data_cl = evolution(Ham, iSt, t_max, dt)\n"
   ]
  },
  {
   "cell_type": "code",
   "execution_count": 79,
   "metadata": {},
   "outputs": [
    {
     "data": {
      "image/png": "[encoded data removed]",
      "text/plain": [
       "<Figure size 720x432 with 1 Axes>"
      ]
     },
     "metadata": {
      "needs_background": "light"
     },
     "output_type": "display_data"
    }
   ],
   "source": [
    "plt.figure(figsize=(10,6))\n",
    "plt.plot(tdata, data_cl[:,0])\n",
    "plt.errorbar(tdata, data[:,0,0], yerr=data[:,0,1])\n",
    "plt.show()"
   ]
  },
  {
   "cell_type": "code",
   "execution_count": 77,
   "metadata": {},
   "outputs": [
    {
     "name": "stdout",
     "output_type": "stream",
     "text": [
      "[[1. 0.]\n",
      " [1. 0.]]\n"
     ]
    }
   ],
   "source": [
    "print(data[:,0])"
   ]
  },
  {
   "cell_type": "code",
   "execution_count": null,
   "metadata": {},
   "outputs": [],
   "source": []
  }
 ],
 "metadata": {
  "kernelspec": {
   "display_name": "Python 3",
   "language": "python",
   "name": "python3"
  },
  "language_info": {
   "codemirror_mode": {
    "name": "ipython",
    "version": 3
   },
   "file_extension": ".py",
   "mimetype": "text/x-python",
   "name": "python",
   "nbconvert_exporter": "python",
   "pygments_lexer": "ipython3",
   "version": "3.7.3"
  }
 },
 "nbformat": 4,
 "nbformat_minor": 2
}
