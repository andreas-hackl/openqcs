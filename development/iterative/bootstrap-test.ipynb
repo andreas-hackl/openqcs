{
 "cells": [
  {
   "cell_type": "code",
   "execution_count": 2,
   "metadata": {},
   "outputs": [],
   "source": [
    "import numpy as np\n",
    "import matplotlib.pyplot as plt\n",
    "\n",
    "import os"
   ]
  },
  {
   "cell_type": "code",
   "execution_count": 3,
   "metadata": {},
   "outputs": [],
   "source": [
    "data = np.loadtxt(\"./QuEvoData/t_2.6.txt\")"
   ]
  },
  {
   "cell_type": "code",
   "execution_count": 4,
   "metadata": {},
   "outputs": [
    {
     "data": {
      "text/plain": [
       "(1000, 2)"
      ]
     },
     "execution_count": 4,
     "metadata": {},
     "output_type": "execute_result"
    }
   ],
   "source": [
    "data.shape"
   ]
  },
  {
   "cell_type": "code",
   "execution_count": 5,
   "metadata": {},
   "outputs": [
    {
     "data": {
      "text/plain": [
       "(array([  1.,   1.,   5.,  42., 474.,  55.,  73.,  44.,  56., 249.]),\n",
       " array([0.215 , 0.2821, 0.3492, 0.4163, 0.4834, 0.5505, 0.6176, 0.6847,\n",
       "        0.7518, 0.8189, 0.886 ]),\n",
       " <a list of 10 Patch objects>)"
      ]
     },
     "execution_count": 5,
     "metadata": {},
     "output_type": "execute_result"
    },
    {
     "data": {
      "image/png": "[encoded data removed]",
      "text/plain": [
       "<Figure size 432x288 with 1 Axes>"
      ]
     },
     "metadata": {
      "needs_background": "light"
     },
     "output_type": "display_data"
    }
   ],
   "source": [
    "plt.hist(data[:,0])"
   ]
  },
  {
   "cell_type": "code",
   "execution_count": 9,
   "metadata": {},
   "outputs": [
    {
     "name": "stdout",
     "output_type": "stream",
     "text": [
      "mean:  0.632451\n",
      "std:  0.15016024640030395\n"
     ]
    }
   ],
   "source": [
    "# average and std\n",
    "print(\"mean: \", data[:,0].mean())\n",
    "print(\"std: \", data[:,0].std())"
   ]
  },
  {
   "cell_type": "code",
   "execution_count": 27,
   "metadata": {},
   "outputs": [
    {
     "data": {
      "text/plain": [
       "(array([ 4.,  7.,  8., 20., 17., 16., 15.,  6.,  4.,  3.]),\n",
       " array([0.621377 , 0.6235909, 0.6258048, 0.6280187, 0.6302326, 0.6324465,\n",
       "        0.6346604, 0.6368743, 0.6390882, 0.6413021, 0.643516 ]),\n",
       " <a list of 10 Patch objects>)"
      ]
     },
     "execution_count": 27,
     "metadata": {},
     "output_type": "execute_result"
    },
    {
     "data": {
      "image/png": "[encoded data removed]",
      "text/plain": [
       "<Figure size 432x288 with 1 Axes>"
      ]
     },
     "metadata": {
      "needs_background": "light"
     },
     "output_type": "display_data"
    }
   ],
   "source": [
    "means = []\n",
    "\n",
    "for i in range(100):\n",
    "    tmp = np.random.choice(data[:,0], size=data.shape[0], replace=True)\n",
    "    means.append(tmp.mean())\n",
    "    \n",
    "plt.hist(means)"
   ]
  },
  {
   "cell_type": "code",
   "execution_count": 23,
   "metadata": {},
   "outputs": [
    {
     "name": "stdout",
     "output_type": "stream",
     "text": [
      "error estimate:  0.004851672573245207\n"
     ]
    }
   ],
   "source": [
    "print(\"error estimate: \", np.std(means, ddof=1))"
   ]
  },
  {
   "cell_type": "code",
   "execution_count": 20,
   "metadata": {},
   "outputs": [
    {
     "name": "stdout",
     "output_type": "stream",
     "text": [
      "[0.6319009999999999, 0.631005, 0.6367069999999999, 0.630692, 0.6324259999999999, 0.632999, 0.633443, 0.6362869999999999, 0.6266660000000001, 0.634595, 0.625593, 0.624501, 0.637019, 0.631143, 0.6361300000000001, 0.6285989999999999, 0.6314369999999999, 0.6369, 0.637624, 0.6313240000000001, 0.62624, 0.6285940000000001, 0.624925, 0.6315599999999999, 0.629046, 0.63191, 0.631379, 0.632893, 0.6298360000000001, 0.626711, 0.624741, 0.6206179999999999, 0.637901, 0.625218, 0.625008, 0.6388680000000001, 0.631152, 0.638698, 0.6260150000000001, 0.63112, 0.634375, 0.6369880000000001, 0.63458, 0.6302660000000001, 0.639024, 0.6398969999999999, 0.630197, 0.635736, 0.6314259999999999, 0.633549, 0.634153, 0.630099, 0.6330930000000001, 0.624426, 0.6366280000000001, 0.6260589999999999, 0.64409, 0.63509, 0.634231, 0.634057, 0.636251, 0.632115, 0.6357170000000001, 0.633708, 0.641081, 0.633875, 0.6245259999999999, 0.6406199999999999, 0.634196, 0.6333119999999999, 0.639048, 0.636695, 0.627334, 0.630798, 0.6218330000000001, 0.631426, 0.6344310000000001, 0.634357, 0.634884, 0.626563, 0.6306990000000001, 0.643531, 0.626899, 0.633418, 0.632435, 0.6321859999999999, 0.636071, 0.638836, 0.6290719999999999, 0.6371939999999999, 0.63228, 0.625064, 0.6352240000000001, 0.641567, 0.63028, 0.642427, 0.626903, 0.635808, 0.6283350000000001, 0.63512]\n"
     ]
    }
   ],
   "source": [
    "print(means)"
   ]
  },
  {
   "cell_type": "code",
   "execution_count": null,
   "metadata": {},
   "outputs": [],
   "source": []
  }
 ],
 "metadata": {
  "kernelspec": {
   "display_name": "Python 3",
   "language": "python",
   "name": "python3"
  },
  "language_info": {
   "codemirror_mode": {
    "name": "ipython",
    "version": 3
   },
   "file_extension": ".py",
   "mimetype": "text/x-python",
   "name": "python",
   "nbconvert_exporter": "python",
   "pygments_lexer": "ipython3",
   "version": "3.7.3"
  }
 },
 "nbformat": 4,
 "nbformat_minor": 2
}
